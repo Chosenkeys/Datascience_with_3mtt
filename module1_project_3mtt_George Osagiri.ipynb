{
 "cells": [
  {
   "cell_type": "markdown",
   "id": "905995ac",
   "metadata": {},
   "source": [
    "**1. Quiz Game**\n",
    "\n",
    "**Task**: Create a quiz game made up of 5 questions. The user should be able to enter in answers and the final score calculated.\n",
    "\n",
    "**Objective**: To create a Python-based quiz game that allows users to answer 5 questions interactively and calculates their final score based on correct answers.\n",
    "\n",
    "**Acceptance Criteria**:\n",
    "- The quiz contains exactly five questions.\n",
    "- Questions and answers are stored in an easily modifiable structure (e.g., a list of dictionaries).\n",
    "- The user can input their answers, and responses are case-insensitive.\n",
    "- Correct answers increase the score, and incorrect answers display the correct answer.\n",
    "- The final score is displayed at the end of the quiz."
   ]
  },
  {
   "cell_type": "code",
   "execution_count": 31,
   "id": "eb7bba74",
   "metadata": {},
   "outputs": [
    {
     "name": "stdout",
     "output_type": "stream",
     "text": [
      "What is the first day of the week?\n",
      "Incorrect answer!: the answer is Sunday\n",
      "\n",
      "What is the Capital of Nigeria?\n",
      "Incorrect answer!: the answer is Abuja\n",
      "\n",
      "What year did Nigeria gain its independence?\n",
      "Incorrect answer!: the answer is 1960\n",
      "\n",
      "What adds taste to a meal?\n",
      "Salt!: is the correct answer\n",
      "Your current score 1\n",
      "\n",
      "What is a group of lion called?\n",
      "Pride!: is the correct answer\n",
      "Your current score 2\n",
      "\n",
      "\n",
      "Total Score is: 2\n"
     ]
    }
   ],
   "source": [
    "#defining questions\n",
    "questions_and_answers = {\n",
    "    \"What is the first day of the week?\": 'Sunday',\n",
    "    \"What is the Capital of Nigeria?\": 'Abuja',\n",
    "    \"What year did Nigeria gain its independence?\": 1960,\n",
    "    \"What adds taste to a meal?\": 'Salt',\n",
    "    \"What is a group of lion called?\":'Pride'\n",
    "}\n",
    "\n",
    "#defining input flow for answers\n",
    "\n",
    "score = 0  #score counter\n",
    "point = 1  #point for correct answer\n",
    "#lose_point = -1\n",
    "#print(answer)\n",
    "#questions_and_answers.items()\n",
    "\n",
    "for question, correct_answers in questions_and_answers.items():\n",
    "    print(question)\n",
    "    user_answer = str(input()).strip().capitalize()\n",
    "    \n",
    "    if correct_answers == user_answer:\n",
    "        print(f\"{user_answer}!: is the correct answer\")\n",
    "        score += point\n",
    "        print(f\"Your current score {score}\\n\")\n",
    "    else:\n",
    "        print(f\"Incorrect answer!: the answer is {correct_answers}\\n\")\n",
    "        score += 0 # add 0 score when question is incorrect\n",
    "    \n",
    "print(f\"\\nTotal Score is: {score}\")\n",
    "    \n",
    "    "
   ]
  },
  {
   "cell_type": "code",
   "execution_count": null,
   "id": "8e234293",
   "metadata": {},
   "outputs": [],
   "source": []
  },
  {
   "cell_type": "markdown",
   "id": "c44c133f",
   "metadata": {},
   "source": [
    "**2. Number Swapping**\n",
    "\n",
    "**Task**: **Swapping two numbers in Python.**\n",
    "\n",
    "**Objective**: Create a Python program that swaps two numbers entered by the user and displays the values before and after swapping.\n",
    "\n",
    "**Acceptance Criteria**:\n",
    "- The program accepts two numbers as input from the user.\n",
    "- The numbers are displayed before and after swapping.\n",
    "- The program uses Python’s tuple unpacking for swapping.\n",
    "- Invalid input (non-numeric) is handled gracefully with an error message.\n",
    "- The program successfully swaps the values without requiring a temporary variable."
   ]
  },
  {
   "cell_type": "code",
   "execution_count": null,
   "id": "81bc53f3",
   "metadata": {},
   "outputs": [
    {
     "name": "stdout",
     "output_type": "stream",
     "text": [
      "[100, 99]\n"
     ]
    }
   ],
   "source": [
    "#Creating a scenario where an employee was promoted \n",
    "# old_exam_scores = (100,99) \n",
    "# # exam_scores_to_lst = list(old_exam_scores)\n",
    "# # print(exam_scores_to_lst)\n",
    "# input_num1 = int(input())\n",
    "# input_num2 = int(input())"
   ]
  },
  {
   "cell_type": "code",
   "execution_count": 71,
   "id": "b0ffaef9",
   "metadata": {},
   "outputs": [
    {
     "name": "stdout",
     "output_type": "stream",
     "text": [
      "\n",
      "this is before the swap: num1= 50 , num2= 505\n",
      "\n",
      "this is after the swap: num1= 505 , num2= 50\n"
     ]
    }
   ],
   "source": [
    "\n",
    "def number_swap(num1,num2):\n",
    "    \n",
    "    print(f\"\\nthis is before the swap: num1= {num1} , num2= {num2}\")\n",
    "    num1,num2 = num2,num1\n",
    "    print(f\"\\nthis is after the swap: num1= {num1} , num2= {num2}\")\n",
    "    return num1,num2\n",
    "\n",
    "try:\n",
    "    input_num1 = int(input(\"Enter 1st number: \"))\n",
    "    input_num2 = int(input(\"Enter 2nd number: \"))\n",
    "\n",
    "    number_swap(input_num1,input_num2)\n",
    "\n",
    "except ValueError:\n",
    "    print(\"Error: kindly enter  **a valid numeric input** \")\n",
    "\n",
    "# print(number_swap(input_num1,input_num2))"
   ]
  },
  {
   "cell_type": "code",
   "execution_count": null,
   "id": "698d4095",
   "metadata": {},
   "outputs": [
    {
     "name": "stdout",
     "output_type": "stream",
     "text": [
      "old_exam: 100,100\n",
      "old_exam: 99,99\n"
     ]
    }
   ],
   "source": [
    "\n",
    "# for old_exam in old_exam_scores:\n",
    "#     update_record = int(input())\n",
    "#     print(f\"old_exam: {old_exam},{old_exam}\")"
   ]
  },
  {
   "cell_type": "code",
   "execution_count": null,
   "id": "01dab7d7",
   "metadata": {},
   "outputs": [
    {
     "name": "stdout",
     "output_type": "stream",
     "text": [
      "\n",
      "this is the number before the swap: num1= 50 , num2= 70\n",
      "\n",
      "this is the number after the swap: num1= 70 , num2= 50\n"
     ]
    },
    {
     "data": {
      "text/plain": [
       "(70, 50)"
      ]
     },
     "execution_count": 70,
     "metadata": {},
     "output_type": "execute_result"
    }
   ],
   "source": [
    "#Improving program for retry using a while loop\n",
    "def number_swap(num1, num2):\n",
    "    print(f\"\\nthis is before the swap: num1= {num1} , num2= {num2}\")\n",
    "    num1,num2 = num2,num1\n",
    "    print(f\"\\nthis is after the swap: num1= {num1} , num2= {num2}\")\n",
    "    return num1,num2\n",
    "\n",
    "# Input with retry loop\n",
    "while True:\n",
    "    try:\n",
    "        input_num1 = int(input(\"Enter the first number: \"))\n",
    "        input_num2 = int(input(\"Enter the second number: \"))\n",
    "        break  # Exit the loop if both inputs are valid\n",
    "    except ValueError:\n",
    "        print(\"Error: Please enter **valid numeric inputs**.\\nTry again.\\n\")\n",
    "\n",
    "# Call the function once inputs are valid\n",
    "number_swap(input_num1, input_num2)\n"
   ]
  },
  {
   "cell_type": "markdown",
   "id": "39f642b2",
   "metadata": {},
   "source": [
    "**3. Prime/Armstrong/Palindrome Number Identifier**\n",
    "\n",
    "**Task**: **Write a code/logic to determine if the value entered is a Prime number, an Armstrong Number or a Palindrome number.**\n",
    "\n",
    "**Objective**: To create a Python program that checks whether a user-entered number is a Prime number, Armstrong number, or Palindrome, and displays the results accordingly.\n",
    "\n",
    "**Acceptance Criteria**:\n",
    "- The program accepts a single integer input from the user.\n",
    "- It checks and identifies if the number is a:\n",
    "    - Prime number: A number greater than 1 that is divisible only by 1 and itself.\n",
    "    - Armstrong number: A number equal to the sum of its digits raised to the power of the number of digits.\n",
    "    - Palindrome: A number that reads the same backward as forward.\n",
    "- The program displays appropriate messages for each property satisfied by the number.\n",
    "- If the number does not meet any criteria, a message is displayed stating so.\n",
    "- Non-integer input is handled gracefully with an error message."
   ]
  },
  {
   "cell_type": "code",
   "execution_count": null,
   "id": "1f0bcf57",
   "metadata": {},
   "outputs": [],
   "source": [
    "# Defining functions first \n",
    "\n",
    "def its_a_prime_number(num_check):\n",
    "    if num_check <= 1:\n",
    "        return False\n",
    "    for i in range(2, int(num_check ** 0.5) + 1):\n",
    "        if num_check % i == 0:\n",
    "            return False\n",
    "    return True\n",
    "\n",
    "def its_a_palindrome(num_check):\n",
    "    return num_check == int(''.join(reversed(str(num_check))))\n",
    "\n",
    "\n",
    "\n",
    "def its_an_armstrong(num_check):\n",
    "    num_str = str(num_check)\n",
    "    power = len(num_str)\n",
    "    total = sum(int(digit) ** power for digit in num_str)\n",
    "    return total == num_check\n",
    "\n",
    "\n",
    "\n",
    "print(\"Prime / Armstrong / Palindrome Number Identifier\\n\")\n",
    "\n",
    "try:\n",
    "    input_num = int(input(\"Enter your number: \"))\n",
    "except ValueError:\n",
    "    print(\"Error: Please enter a valid integer.\")\n",
    "    exit()  # Stop the program if input is invalid or encounter value error\n",
    "\n",
    "print('Choose what to check: \"prime\", \"palindrome\", or \"armstrong\"')\n",
    "user_input = input(\"Your choice: \").strip().lower()\n",
    "print() #printing a blank line\n",
    "\n",
    "# Call relevant function based on to print relevant output\n",
    "if user_input == 'prime':\n",
    "    if its_a_prime_number(input_num):\n",
    "        print(\"This is a Prime number.\")\n",
    "    else:\n",
    "        print(\"This is NOT a Prime number.\")\n",
    "\n",
    "elif user_input == 'palindrome':\n",
    "    if its_a_palindrome(input_num):\n",
    "        print(\"This is a Palindrome number.\")\n",
    "    else:\n",
    "        print(\"This is NOT a Palindrome number.\")\n",
    "\n",
    "elif user_input == 'armstrong':\n",
    "    if its_an_armstrong(input_num):\n",
    "        print(\"This is an Armstrong number.\")\n",
    "    else:\n",
    "        print(\"This is NOT an Armstrong number.\")\n",
    "\n",
    "else:\n",
    "    print(\"Invalid input! Please enter: prime, palindrome, or armstrong.\")\n"
   ]
  },
  {
   "cell_type": "code",
   "execution_count": null,
   "id": "ece2eb30",
   "metadata": {},
   "outputs": [],
   "source": []
  },
  {
   "cell_type": "markdown",
   "id": "ec3735ac",
   "metadata": {},
   "source": [
    "**4. The Fibonacci Sequence**\n",
    "\n",
    "**Task**: **Generate the Fibonacci Sequence.**\n",
    "\n",
    "**Objective**: To create a Python program that generates the first n terms of the Fibonacci sequence based on user input.\n",
    "\n",
    "**Acceptance Criteria**:\n",
    "- The program accepts a positive integer input (n) from the user.\n",
    "- It generates and displays the first n terms of the Fibonacci sequence.\n",
    "- The Fibonacci sequence is calculated iteratively.\n",
    "- If the input is zero or negative, an appropriate error message is displayed.\n",
    "- Non-integer input is handled gracefully with an error message."
   ]
  },
  {
   "cell_type": "code",
   "execution_count": 26,
   "id": "15971f59",
   "metadata": {},
   "outputs": [
    {
     "name": "stdout",
     "output_type": "stream",
     "text": [
      "[0, 1, 1, 3, 5, 7, 9, 11, 13, 15]\n"
     ]
    }
   ],
   "source": [
    "def fibonacci_creator_prog(number):\n",
    "    fib_container = []\n",
    "    \n",
    "    if number == 1:\n",
    "        fib_container == [0]\n",
    "    elif number >= 2:\n",
    "      fib_container = [0,1]\n",
    "      for loop in range(2,number):\n",
    "          updated_fib = (loop - 1) + (loop -2)\n",
    "          fib_container.append(updated_fib)\n",
    "    return fib_container\n",
    "\n",
    "try:\n",
    "    user_input = int(input(\"Enter the number of Fibonacci terms to create: \"))\n",
    "    \n",
    "    if user_input < 0:\n",
    "        print(\"Enter a positive number here: \")\n",
    "    else:\n",
    "        output = fibonacci_creator_prog(user_input)\n",
    "        print(output)\n",
    "        \n",
    "except ValueError:\n",
    "    print(\"Invalid input!\")\n",
    "    "
   ]
  },
  {
   "cell_type": "code",
   "execution_count": null,
   "id": "f3c32501",
   "metadata": {},
   "outputs": [],
   "source": []
  }
 ],
 "metadata": {
  "kernelspec": {
   "display_name": "base",
   "language": "python",
   "name": "python3"
  },
  "language_info": {
   "codemirror_mode": {
    "name": "ipython",
    "version": 3
   },
   "file_extension": ".py",
   "mimetype": "text/x-python",
   "name": "python",
   "nbconvert_exporter": "python",
   "pygments_lexer": "ipython3",
   "version": "3.12.7"
  }
 },
 "nbformat": 4,
 "nbformat_minor": 5
}
